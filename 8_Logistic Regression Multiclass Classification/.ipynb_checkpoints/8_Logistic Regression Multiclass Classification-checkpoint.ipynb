{
 "cells": [
  {
   "cell_type": "code",
   "execution_count": 9,
   "metadata": {},
   "outputs": [],
   "source": [
    "from sklearn.datasets import load_digits\n",
    "import matplotlib.pyplot as plt\n",
    "digits=load_digits()"
   ]
  },
  {
   "cell_type": "code",
   "execution_count": 14,
   "metadata": {},
   "outputs": [
    {
     "data": {
      "text/plain": [
       "<Figure size 432x288 with 0 Axes>"
      ]
     },
     "metadata": {},
     "output_type": "display_data"
    },
    {
     "data": {
      "image/png": "[encoded data removed]",
      "text/plain": [
       "<Figure size 288x288 with 1 Axes>"
      ]
     },
     "metadata": {
      "needs_background": "light"
     },
     "output_type": "display_data"
    },
    {
     "data": {
      "image/png": "[encoded data removed]",
      "text/plain": [
       "<Figure size 288x288 with 1 Axes>"
      ]
     },
     "metadata": {
      "needs_background": "light"
     },
     "output_type": "display_data"
    },
    {
     "data": {
      "image/png": "[encoded data removed]",
      "text/plain": [
       "<Figure size 288x288 with 1 Axes>"
      ]
     },
     "metadata": {
      "needs_background": "light"
     },
     "output_type": "display_data"
    },
    {
     "data": {
      "image/png": "[encoded data removed]",
      "text/plain": [
       "<Figure size 288x288 with 1 Axes>"
      ]
     },
     "metadata": {
      "needs_background": "light"
     },
     "output_type": "display_data"
    },
    {
     "data": {
      "image/png": "[encoded data removed]",
      "text/plain": [
       "<Figure size 288x288 with 1 Axes>"
      ]
     },
     "metadata": {
      "needs_background": "light"
     },
     "output_type": "display_data"
    }
   ],
   "source": [
    "plt.gray()\n",
    "for i in range(5):\n",
    "    plt.matshow(digits.images[i])"
   ]
  },
  {
   "cell_type": "code",
   "execution_count": 15,
   "metadata": {},
   "outputs": [
    {
     "data": {
      "text/plain": [
       "['DESCR', 'data', 'feature_names', 'frame', 'images', 'target', 'target_names']"
      ]
     },
     "execution_count": 15,
     "metadata": {},
     "output_type": "execute_result"
    }
   ],
   "source": [
    "dir(digits)"
   ]
  },
  {
   "cell_type": "code",
   "execution_count": 16,
   "metadata": {},
   "outputs": [
    {
     "data": {
      "text/plain": [
       "array([ 0.,  0.,  5., 13.,  9.,  1.,  0.,  0.,  0.,  0., 13., 15., 10.,\n",
       "       15.,  5.,  0.,  0.,  3., 15.,  2.,  0., 11.,  8.,  0.,  0.,  4.,\n",
       "       12.,  0.,  0.,  8.,  8.,  0.,  0.,  5.,  8.,  0.,  0.,  9.,  8.,\n",
       "        0.,  0.,  4., 11.,  0.,  1., 12.,  7.,  0.,  0.,  2., 14.,  5.,\n",
       "       10., 12.,  0.,  0.,  0.,  0.,  6., 13., 10.,  0.,  0.,  0.])"
      ]
     },
     "execution_count": 16,
     "metadata": {},
     "output_type": "execute_result"
    }
   ],
   "source": [
    "digits.data[0]"
   ]
  },
  {
   "cell_type": "code",
   "execution_count": 18,
   "metadata": {},
   "outputs": [],
   "source": [
    "from sklearn.model_selection import train_test_split\n",
    "X_train,X_test,Y_test,Y_train=train_test_split(digits.data,digits.target,test_size=0.3)"
   ]
  },
  {
   "cell_type": "code",
   "execution_count": 19,
   "metadata": {},
   "outputs": [
    {
     "data": {
      "text/plain": [
       "array([[ 0.,  1., 12., ...,  5.,  0.,  0.],\n",
       "       [ 0.,  0.,  0., ...,  1.,  0.,  0.],\n",
       "       [ 0.,  0.,  9., ...,  5.,  0.,  0.],\n",
       "       ...,\n",
       "       [ 0.,  0.,  2., ...,  3.,  0.,  0.],\n",
       "       [ 0.,  0.,  3., ...,  0.,  0.,  0.],\n",
       "       [ 0.,  0.,  5., ...,  0.,  0.,  0.]])"
      ]
     },
     "execution_count": 19,
     "metadata": {},
     "output_type": "execute_result"
    }
   ],
   "source": [
    "X_test"
   ]
  },
  {
   "cell_type": "code",
   "execution_count": 20,
   "metadata": {},
   "outputs": [
    {
     "data": {
      "text/plain": [
       "array([7, 2, 5, ..., 0, 5, 6])"
      ]
     },
     "execution_count": 20,
     "metadata": {},
     "output_type": "execute_result"
    }
   ],
   "source": [
    "Y_test"
   ]
  },
  {
   "cell_type": "code",
   "execution_count": 22,
   "metadata": {},
   "outputs": [
    {
     "name": "stderr",
     "output_type": "stream",
     "text": [
      "c:\\users\\rahul\\appdata\\local\\programs\\python\\python38-32\\lib\\site-packages\\sklearn\\linear_model\\_logistic.py:762: ConvergenceWarning: lbfgs failed to converge (status=1):\n",
      "STOP: TOTAL NO. of ITERATIONS REACHED LIMIT.\n",
      "\n",
      "Increase the number of iterations (max_iter) or scale the data as shown in:\n",
      "    https://scikit-learn.org/stable/modules/preprocessing.html\n",
      "Please also refer to the documentation for alternative solver options:\n",
      "    https://scikit-learn.org/stable/modules/linear_model.html#logistic-regression\n",
      "  n_iter_i = _check_optimize_result(\n"
     ]
    },
    {
     "data": {
      "text/plain": [
       "LogisticRegression()"
      ]
     },
     "execution_count": 22,
     "metadata": {},
     "output_type": "execute_result"
    }
   ],
   "source": [
    "from sklearn.linear_model import LogisticRegression\n",
    "cyl=LogisticRegression()\n",
    "cyl.fit(X_train,Y_test)"
   ]
  },
  {
   "cell_type": "code",
   "execution_count": 23,
   "metadata": {},
   "outputs": [
    {
     "data": {
      "text/plain": [
       "array([[ 0.00000000e+00, -3.66719655e-03, -1.98956574e-02,\n",
       "         4.25223489e-02,  4.85546297e-02, -1.36624221e-01,\n",
       "        -1.20662600e-01, -1.27326994e-02, -8.81597834e-05,\n",
       "        -1.51798454e-02, -1.95478391e-03,  1.33954481e-01,\n",
       "         2.47277424e-02,  1.03094045e-01, -6.16964435e-02,\n",
       "        -1.31531259e-02, -1.48377312e-05,  4.62471787e-02,\n",
       "         1.45763832e-01, -2.45209805e-02, -2.90067085e-01,\n",
       "         1.87390128e-01,  4.87149533e-02, -5.05110464e-03,\n",
       "         0.00000000e+00,  1.14735676e-01,  1.18984032e-01,\n",
       "        -2.10663420e-01, -4.23340540e-01,  1.94885811e-02,\n",
       "         1.20617511e-01, -7.80241959e-04,  0.00000000e+00,\n",
       "         1.29453468e-01,  1.30199194e-01, -1.51744456e-01,\n",
       "        -3.24457921e-01,  6.01900748e-03,  1.05942520e-01,\n",
       "         0.00000000e+00, -1.67711845e-03,  1.36132193e-02,\n",
       "         2.09469292e-01, -1.61098299e-01, -1.29670736e-01,\n",
       "         8.85705073e-02,  5.77277577e-02, -4.31942076e-04,\n",
       "        -6.06121570e-03, -4.08235249e-02,  1.07825126e-01,\n",
       "         3.07933056e-02,  1.03587752e-01,  6.81296763e-02,\n",
       "        -1.10011738e-02, -7.93919378e-03, -1.70242529e-05,\n",
       "        -1.00917819e-02, -2.46832189e-02,  1.38898426e-01,\n",
       "         2.20423506e-03, -5.45176384e-02, -3.91368448e-02,\n",
       "        -1.19988584e-02],\n",
       "       [ 0.00000000e+00, -8.92591558e-03, -1.11518408e-01,\n",
       "         1.21810408e-01, -6.32794938e-01,  3.33345932e-01,\n",
       "         4.75252299e-02, -7.01965451e-03, -6.55315148e-04,\n",
       "        -4.05609505e-01, -3.46449204e-01, -4.01078402e-01,\n",
       "         2.65730383e-01, -6.69721227e-02, -2.99874598e-01,\n",
       "        -7.28855484e-03, -2.97178257e-04,  3.06463958e-01,\n",
       "        -8.84730052e-02,  7.24616999e-01,  8.08302076e-02,\n",
       "        -8.92975291e-02,  4.81710180e-04, -2.99277699e-03,\n",
       "         0.00000000e+00, -1.39064288e-01,  4.35108172e-02,\n",
       "         6.01337592e-02,  2.97713788e-01, -3.74708991e-03,\n",
       "         5.28234007e-02, -6.41026550e-05,  0.00000000e+00,\n",
       "         3.62994822e-02,  9.13385133e-02, -1.67790250e-01,\n",
       "         1.56381286e-01,  1.94316848e-01, -1.50759526e-01,\n",
       "         0.00000000e+00, -2.14115348e-04, -2.47522182e-01,\n",
       "         5.40172054e-02,  2.57774534e-01, -2.69675725e-02,\n",
       "        -1.27924061e-01, -4.26513008e-01, -1.22420734e-03,\n",
       "        -1.52015564e-03, -1.07108094e-01, -5.18117425e-02,\n",
       "         1.88188111e-01,  2.11975001e-01, -1.31537127e-01,\n",
       "        -1.57366476e-01,  1.66370195e-01, -4.52413433e-04,\n",
       "         2.74349010e-02, -2.30554262e-01,  1.97074985e-02,\n",
       "         7.82127201e-02,  7.29388811e-02,  2.11369692e-01,\n",
       "         1.53809498e-01],\n",
       "       [ 0.00000000e+00,  2.10971462e-02, -2.51387783e-02,\n",
       "         8.51663531e-02,  5.84094159e-02, -4.52130693e-02,\n",
       "        -2.48351905e-02, -2.74456624e-03, -5.46264293e-03,\n",
       "         2.31893382e-01,  4.56112682e-02, -1.58223852e-01,\n",
       "         2.68798815e-01,  3.96448740e-02,  4.09946141e-02,\n",
       "        -2.04271559e-03, -2.93316629e-03, -6.18690222e-02,\n",
       "        -9.12206224e-02, -2.30983150e-01,  2.24650062e-01,\n",
       "        -4.72119127e-02,  1.64694135e-01, -8.69378420e-04,\n",
       "         0.00000000e+00, -2.47467004e-01, -5.19478815e-01,\n",
       "        -3.45284283e-01, -2.39005936e-01,  3.54203425e-02,\n",
       "         3.35982068e-02, -4.37007580e-05,  0.00000000e+00,\n",
       "        -1.55980831e-01, -3.34844568e-01, -1.51594425e-01,\n",
       "        -8.09852671e-03, -2.02564540e-01, -2.31258999e-01,\n",
       "         0.00000000e+00, -1.89277183e-04,  8.46714318e-02,\n",
       "         5.40865730e-02,  4.19848614e-01, -3.41746891e-01,\n",
       "        -3.45697894e-01, -2.76168282e-02,  6.27317546e-03,\n",
       "         3.31897202e-03,  1.02139841e-01,  5.84062791e-02,\n",
       "         5.37293418e-01,  3.27544732e-01,  2.52386962e-01,\n",
       "         1.69243678e-01,  6.05640291e-02,  1.15006953e-03,\n",
       "         3.30797334e-02,  1.46073228e-01,  6.89070010e-02,\n",
       "        -1.72223960e-02,  2.04120933e-01,  4.07248112e-01,\n",
       "         1.40745315e-01],\n",
       "       [ 0.00000000e+00,  1.01312815e-01, -2.34394785e-02,\n",
       "        -9.11463200e-03,  3.86837852e-01,  5.12456818e-02,\n",
       "         2.55136666e-02, -1.94089144e-06, -2.46913889e-03,\n",
       "         9.95552605e-02,  9.43614440e-02,  9.35788610e-02,\n",
       "         1.32432533e-01,  3.24879091e-01,  2.74062438e-01,\n",
       "         9.64708684e-03, -5.36055139e-04, -1.56643791e-01,\n",
       "        -2.51011358e-01, -4.51808822e-01,  3.57403962e-02,\n",
       "        -2.42258182e-01, -1.02440972e-01, -8.98053119e-04,\n",
       "         0.00000000e+00, -6.19222290e-03, -3.23777543e-01,\n",
       "        -1.66465790e-01,  3.56202485e-01, -4.13007844e-01,\n",
       "        -3.46149744e-01, -4.36743037e-05,  0.00000000e+00,\n",
       "        -1.03368075e-01, -1.15966000e-01, -3.61418783e-02,\n",
       "         4.15738590e-02, -1.75272009e-01,  2.54387042e-02,\n",
       "         0.00000000e+00, -1.89154916e-04,  8.12087790e-03,\n",
       "        -2.48006330e-01, -3.92792507e-01,  1.68688389e-01,\n",
       "         3.06876418e-01,  2.32006913e-01, -7.32983659e-03,\n",
       "        -1.81969617e-04,  2.05089201e-02, -8.03693054e-05,\n",
       "        -2.06723888e-01,  9.74022736e-02,  2.17406457e-01,\n",
       "         4.18481191e-01, -1.04296827e-01, -1.69977234e-05,\n",
       "         4.70690320e-02,  1.25340674e-01,  1.82238155e-01,\n",
       "        -7.09135661e-02, -3.77369999e-02,  1.00019044e-01,\n",
       "        -1.23167751e-01],\n",
       "       [ 0.00000000e+00, -1.61178996e-02, -3.31004393e-02,\n",
       "        -3.53716927e-01, -2.54297118e-01, -3.21530282e-01,\n",
       "        -2.16697573e-01,  8.86291988e-02, -8.82059107e-05,\n",
       "         7.55983023e-02, -2.40123725e-01, -1.47625449e-01,\n",
       "        -4.05485547e-01, -1.23014559e-01, -1.30637619e-01,\n",
       "         6.87210306e-02, -1.49972848e-05,  9.29586085e-02,\n",
       "         8.36282733e-02,  1.55449983e-01,  3.00572433e-02,\n",
       "         5.12819691e-02, -1.06642260e-02,  3.52339827e-02,\n",
       "         0.00000000e+00, -1.65806896e-02,  4.34548350e-01,\n",
       "         1.82003624e-01,  7.98257473e-02,  5.83537079e-02,\n",
       "         4.55339881e-01,  3.65832024e-03,  0.00000000e+00,\n",
       "         1.40300488e-01,  1.98619373e-01, -6.21829427e-02,\n",
       "         3.04897536e-01,  1.94731828e-01,  4.19626235e-01,\n",
       "         0.00000000e+00,  4.01710838e-03,  3.78826810e-01,\n",
       "         3.52318322e-02,  5.86074626e-01,  3.43082830e-01,\n",
       "         1.53724469e-01,  1.39963983e-01, -4.64384193e-04,\n",
       "         9.38504955e-03,  1.76196541e-01, -2.08145677e-01,\n",
       "         7.24988272e-02,  2.23098332e-02, -2.76909484e-01,\n",
       "        -1.82086735e-01, -6.57993586e-03, -1.99835854e-05,\n",
       "        -4.01349474e-02, -4.66519759e-02, -3.13142317e-01,\n",
       "        -1.66123327e-01, -2.47176374e-01, -1.00404945e-01,\n",
       "        -6.52235768e-03],\n",
       "       [ 0.00000000e+00,  1.13301397e-01,  5.28318068e-01,\n",
       "        -1.03040928e-01, -5.47506238e-03,  4.28501936e-01,\n",
       "         3.58689453e-01, -3.73798239e-02, -3.68115520e-04,\n",
       "        -1.73081255e-01,  1.43712758e-01,  7.88524622e-02,\n",
       "        -4.74407963e-02, -1.04339326e-01, -9.65313226e-02,\n",
       "        -3.32743567e-02, -1.32984706e-04,  3.83883239e-02,\n",
       "         1.60347970e-01,  1.66316676e-02, -2.74876972e-01,\n",
       "        -3.80225308e-01, -3.89183730e-01, -9.31012803e-03,\n",
       "         0.00000000e+00,  1.28366777e-01,  1.99704716e-01,\n",
       "        -5.41841082e-02,  2.89759929e-01, -1.25729429e-01,\n",
       "        -2.31735586e-01, -6.43419906e-05,  0.00000000e+00,\n",
       "         3.30739544e-02,  1.70508469e-01, -1.58689771e-01,\n",
       "        -2.19655033e-01,  3.96854408e-02,  2.07618155e-01,\n",
       "         0.00000000e+00, -1.89692467e-04, -1.80879572e-01,\n",
       "        -3.39595587e-01, -2.44747154e-01,  5.74168163e-02,\n",
       "        -2.36656885e-02,  9.41742499e-02, -4.50909291e-04,\n",
       "        -1.77214940e-04, -8.48330940e-02, -8.37786194e-02,\n",
       "        -2.15568025e-01, -1.84537456e-02,  5.91130893e-02,\n",
       "        -2.41179276e-01, -7.31207470e-03, -1.51513247e-05,\n",
       "         9.80811573e-02,  4.04874512e-01,  1.85904245e-01,\n",
       "         7.57893493e-02, -1.64110068e-02, -3.54146142e-01,\n",
       "        -2.54520915e-02],\n",
       "       [ 0.00000000e+00, -1.41366003e-02, -1.92247138e-01,\n",
       "        -1.26531080e-01, -2.98771798e-02, -2.53286606e-01,\n",
       "        -7.83296065e-02, -2.49944282e-03, -1.94385608e-03,\n",
       "        -1.25448099e-01, -1.89443355e-02, -9.53987772e-03,\n",
       "        -2.74689379e-01, -2.28657737e-01, -7.42886892e-02,\n",
       "        -1.88157827e-03, -9.41434450e-04, -5.90656882e-02,\n",
       "         6.64107373e-02, -7.41540686e-04, -2.64559524e-01,\n",
       "        -3.42051721e-01, -7.99091237e-02, -1.22626871e-03,\n",
       "         0.00000000e+00,  1.15740151e-01,  9.40515315e-02,\n",
       "         6.50737233e-02, -7.38933283e-02,  1.04298809e-01,\n",
       "        -1.53455856e-01, -3.37930413e-04,  0.00000000e+00,\n",
       "         6.98171933e-02,  1.33783271e-01,  2.24505749e-01,\n",
       "         3.12204302e-02, -1.02810993e-01,  6.16241793e-02,\n",
       "         0.00000000e+00, -9.84836199e-04,  1.83365044e-02,\n",
       "         4.32404754e-01,  1.74666303e-01,  2.42675293e-02,\n",
       "         9.96111524e-02,  2.37689380e-01,  4.24615588e-03,\n",
       "        -2.52033021e-03, -6.53543614e-02,  1.02868337e-01,\n",
       "         4.25113570e-03, -1.12414005e-01,  3.15651860e-01,\n",
       "         6.06753619e-02, -1.47720987e-01, -1.48520046e-05,\n",
       "        -1.55221158e-02, -2.07911257e-01, -8.72498027e-02,\n",
       "         4.90240136e-02,  2.97049745e-01, -1.76360181e-02,\n",
       "        -9.49505359e-02],\n",
       "       [ 0.00000000e+00,  3.09871299e-02,  3.88373854e-02,\n",
       "         6.18743027e-02,  1.63525630e-01,  7.30079615e-02,\n",
       "         2.56657501e-01,  8.73068357e-02, -8.76196411e-05,\n",
       "         1.38757001e-01,  1.58160090e-01,  1.26060437e-01,\n",
       "         4.56595601e-01, -6.84656001e-02,  6.25095554e-03,\n",
       "         8.39815402e-02, -1.46100046e-05, -2.19068082e-01,\n",
       "        -2.80189380e-01, -1.39570830e-01,  1.00619704e-01,\n",
       "         1.87361943e-01,  1.45234673e-01,  1.45067421e-02,\n",
       "         0.00000000e+00, -1.11899948e-01, -6.55794018e-02,\n",
       "        -2.35535115e-01, -2.74875375e-02,  1.76298087e-01,\n",
       "         1.05490191e-01, -1.93877053e-03,  0.00000000e+00,\n",
       "         4.68597363e-02,  1.26284035e-02, -5.49821504e-04,\n",
       "         1.75332390e-01,  2.50718718e-01,  1.15095909e-01,\n",
       "         0.00000000e+00, -1.89253334e-04,  7.57024435e-02,\n",
       "         2.11256140e-02,  7.70444885e-02,  6.92169635e-02,\n",
       "        -1.27762392e-01, -5.15830367e-02, -4.23684027e-04,\n",
       "        -2.10778946e-04, -4.53015543e-02, -4.72994510e-02,\n",
       "         6.64807805e-02, -1.88519463e-01, -3.82666649e-01,\n",
       "        -1.03235586e-01, -3.85272818e-03, -2.66012109e-05,\n",
       "         5.85393031e-03,  2.26260501e-04, -2.37895153e-01,\n",
       "        -2.03724320e-01, -3.22068965e-01, -8.57714272e-02,\n",
       "        -7.54225082e-03],\n",
       "       [ 0.00000000e+00, -9.26082502e-02,  7.75551176e-02,\n",
       "        -1.55746988e-01,  1.43323726e-01, -7.70468743e-02,\n",
       "        -2.45808400e-01, -1.24065690e-02,  1.13249434e-02,\n",
       "         4.80834196e-02, -1.44368652e-02,  1.35955051e-01,\n",
       "        -2.72153214e-01,  1.36114899e-01,  1.39618734e-01,\n",
       "        -5.85850694e-03,  4.91190862e-03,  1.98825259e-02,\n",
       "         2.84864771e-01, -7.87192791e-02,  1.61472602e-01,\n",
       "         2.72504969e-01,  7.74694239e-02, -1.89948686e-03,\n",
       "         0.00000000e+00,  1.33851269e-02, -2.33470005e-01,\n",
       "         3.49520113e-01, -2.57088050e-01, -4.02713657e-02,\n",
       "        -3.62995683e-02, -1.03522166e-04,  0.00000000e+00,\n",
       "        -2.03169396e-02, -5.52379003e-02,  3.18606428e-01,\n",
       "         4.52943964e-02, -2.10146303e-01, -3.97873242e-01,\n",
       "         0.00000000e+00, -1.94473043e-04, -1.17508486e-02,\n",
       "         2.15515664e-01,  8.93680541e-02,  1.83923088e-01,\n",
       "         1.57385272e-01,  1.84251826e-01, -7.71523192e-04,\n",
       "        -1.85404262e-03,  4.01982842e-02,  1.24749506e-01,\n",
       "        -2.44925869e-01, -2.67222272e-01,  3.76528524e-02,\n",
       "         1.64085550e-01,  2.39212194e-02, -5.71309812e-04,\n",
       "        -6.21073227e-02, -3.14799729e-01, -1.58328108e-02,\n",
       "         2.22998728e-01, -9.33337550e-02, -1.72220381e-01,\n",
       "        -3.63229067e-02],\n",
       "       [ 0.00000000e+00, -1.31242626e-01, -2.39370672e-01,\n",
       "         4.36777143e-01,  1.21793044e-01, -5.24004583e-02,\n",
       "        -2.05248241e-03, -1.01151338e-01, -1.61889465e-04,\n",
       "         1.25431338e-01,  1.80063355e-01,  1.48066289e-01,\n",
       "        -1.48516139e-01, -1.22835637e-02,  2.02101931e-01,\n",
       "        -9.88508194e-02, -2.66447578e-05, -7.29401148e-03,\n",
       "        -3.01212182e-02,  2.96459521e-02,  1.96133366e-01,\n",
       "         4.02505643e-01,  1.45603156e-01, -2.74935280e-02,\n",
       "         0.00000000e+00,  1.48976422e-01,  2.51506318e-01,\n",
       "         3.55401497e-01, -2.68655724e-03,  1.88896202e-01,\n",
       "        -2.28436009e-04, -2.82035465e-04,  0.00000000e+00,\n",
       "        -1.76138477e-01, -2.31028757e-01,  1.85581367e-01,\n",
       "        -2.02488418e-01,  5.32200237e-03, -1.55453936e-01,\n",
       "         0.00000000e+00, -1.89187438e-04, -1.39118685e-01,\n",
       "        -4.34249018e-01, -8.06138659e-01, -3.48210418e-01,\n",
       "        -1.81117784e-01, -4.40101236e-01,  5.77155370e-04,\n",
       "        -1.78313889e-04,  4.37704119e-03, -2.73338891e-03,\n",
       "        -2.32287795e-01, -1.76210106e-01, -1.59227637e-01,\n",
       "        -1.17616533e-01,  2.68463035e-02, -1.57361799e-05,\n",
       "        -8.36625861e-02,  1.48085769e-01,  5.84647581e-02,\n",
       "         2.97545624e-02,  1.97135181e-01,  5.06789097e-02,\n",
       "         1.14019390e-02]])"
      ]
     },
     "execution_count": 23,
     "metadata": {},
     "output_type": "execute_result"
    }
   ],
   "source": [
    "cyl.coef_"
   ]
  },
  {
   "cell_type": "code",
   "execution_count": 24,
   "metadata": {},
   "outputs": [
    {
     "data": {
      "text/plain": [
       "array([ 0.00291807, -0.10786574,  0.00114786,  0.00437802,  0.04940762,\n",
       "       -0.01284225, -0.00359644,  0.01316379,  0.07298437, -0.01969532])"
      ]
     },
     "execution_count": 24,
     "metadata": {},
     "output_type": "execute_result"
    }
   ],
   "source": [
    "cyl.intercept_"
   ]
  },
  {
   "cell_type": "code",
   "execution_count": 40,
   "metadata": {},
   "outputs": [],
   "source": [
    "y_predicted=cyl.predict(X_test)"
   ]
  },
  {
   "cell_type": "code",
   "execution_count": 42,
   "metadata": {},
   "outputs": [
    {
     "data": {
      "text/plain": [
       "array([[48,  0,  0,  0,  0,  0,  0,  0,  0,  0],\n",
       "       [ 0, 54,  0,  1,  0,  0,  0,  0,  1,  0],\n",
       "       [ 0,  0, 61,  0,  0,  0,  0,  0,  0,  0],\n",
       "       [ 0,  0,  0, 45,  0,  1,  0,  0,  0,  2],\n",
       "       [ 0,  1,  0,  0, 56,  0,  0,  0,  0,  0],\n",
       "       [ 0,  0,  0,  0,  0, 47,  1,  0,  0,  3],\n",
       "       [ 0,  0,  0,  0,  0,  0, 54,  0,  1,  0],\n",
       "       [ 0,  0,  0,  1,  1,  0,  0, 53,  0,  0],\n",
       "       [ 0,  1,  0,  0,  0,  2,  0,  0, 50,  0],\n",
       "       [ 0,  0,  0,  0,  1,  1,  0,  0,  2, 52]], dtype=int64)"
      ]
     },
     "execution_count": 42,
     "metadata": {},
     "output_type": "execute_result"
    }
   ],
   "source": [
    "from sklearn.metrics import confusion_matrix\n",
    "cm=confusion_matrix(Y_train,y_predicted)\n",
    "cm"
   ]
  },
  {
   "cell_type": "code",
   "execution_count": 45,
   "metadata": {},
   "outputs": [
    {
     "data": {
      "text/plain": [
       "Text(69.0, 0.5, 'Truth')"
      ]
     },
     "execution_count": 45,
     "metadata": {},
     "output_type": "execute_result"
    },
    {
     "data": {
      "image/png": "[encoded data removed]",
      "text/plain": [
       "<Figure size 720x504 with 2 Axes>"
      ]
     },
     "metadata": {
      "needs_background": "light"
     },
     "output_type": "display_data"
    }
   ],
   "source": [
    "import seaborn as sb\n",
    "plt.figure(figsize=(10,7))\n",
    "sb.heatmap(cm,annot=True)\n",
    "plt.xlabel('Predicted')\n",
    "plt.ylabel('Truth')"
   ]
  },
  {
   "cell_type": "code",
   "execution_count": null,
   "metadata": {},
   "outputs": [],
   "source": []
  }
 ],
 "metadata": {
  "kernelspec": {
   "display_name": "Python 3",
   "language": "python",
   "name": "python3"
  },
  "language_info": {
   "codemirror_mode": {
    "name": "ipython",
    "version": 3
   },
   "file_extension": ".py",
   "mimetype": "text/x-python",
   "name": "python",
   "nbconvert_exporter": "python",
   "pygments_lexer": "ipython3",
   "version": "3.8.4"
  }
 },
 "nbformat": 4,
 "nbformat_minor": 4
}
