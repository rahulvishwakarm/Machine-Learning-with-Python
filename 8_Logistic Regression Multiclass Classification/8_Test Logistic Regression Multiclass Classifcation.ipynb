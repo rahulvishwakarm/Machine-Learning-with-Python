{
 "cells": [
  {
   "cell_type": "code",
   "execution_count": 6,
   "metadata": {},
   "outputs": [],
   "source": [
    "from sklearn.datasets import load_digits\n",
    "import matplotlib.pyplot as plt\n",
    "digits=load_digits()"
   ]
  },
  {
   "cell_type": "code",
   "execution_count": 14,
   "metadata": {},
   "outputs": [
    {
     "data": {
      "text/plain": [
       "<Figure size 432x288 with 0 Axes>"
      ]
     },
     "metadata": {},
     "output_type": "display_data"
    },
    {
     "data": {
      "image/png": "[encoded data removed]",
      "text/plain": [
       "<Figure size 288x288 with 1 Axes>"
      ]
     },
     "metadata": {
      "needs_background": "light"
     },
     "output_type": "display_data"
    },
    {
     "data": {
      "image/png": "[encoded data removed]",
      "text/plain": [
       "<Figure size 288x288 with 1 Axes>"
      ]
     },
     "metadata": {
      "needs_background": "light"
     },
     "output_type": "display_data"
    },
    {
     "data": {
      "image/png": "[encoded data removed]",
      "text/plain": [
       "<Figure size 288x288 with 1 Axes>"
      ]
     },
     "metadata": {
      "needs_background": "light"
     },
     "output_type": "display_data"
    },
    {
     "data": {
      "image/png": "[encoded data removed]",
      "text/plain": [
       "<Figure size 288x288 with 1 Axes>"
      ]
     },
     "metadata": {
      "needs_background": "light"
     },
     "output_type": "display_data"
    },
    {
     "data": {
      "image/png": "[encoded data removed]",
      "text/plain": [
       "<Figure size 288x288 with 1 Axes>"
      ]
     },
     "metadata": {
      "needs_background": "light"
     },
     "output_type": "display_data"
    }
   ],
   "source": [
    "plt.gray()\n",
    "for i in range(5):\n",
    "    plt.matshow(digits.images[i])"
   ]
  },
  {
   "cell_type": "code",
   "execution_count": 9,
   "metadata": {},
   "outputs": [
    {
     "data": {
      "text/plain": [
       "['DESCR', 'data', 'feature_names', 'frame', 'images', 'target', 'target_names']"
      ]
     },
     "execution_count": 9,
     "metadata": {},
     "output_type": "execute_result"
    }
   ],
   "source": [
    "dir(digits)"
   ]
  },
  {
   "cell_type": "code",
   "execution_count": 10,
   "metadata": {},
   "outputs": [
    {
     "data": {
      "text/plain": [
       "array([ 0.,  0.,  5., 13.,  9.,  1.,  0.,  0.,  0.,  0., 13., 15., 10.,\n",
       "       15.,  5.,  0.,  0.,  3., 15.,  2.,  0., 11.,  8.,  0.,  0.,  4.,\n",
       "       12.,  0.,  0.,  8.,  8.,  0.,  0.,  5.,  8.,  0.,  0.,  9.,  8.,\n",
       "        0.,  0.,  4., 11.,  0.,  1., 12.,  7.,  0.,  0.,  2., 14.,  5.,\n",
       "       10., 12.,  0.,  0.,  0.,  0.,  6., 13., 10.,  0.,  0.,  0.])"
      ]
     },
     "execution_count": 10,
     "metadata": {},
     "output_type": "execute_result"
    }
   ],
   "source": [
    "digits.data[0]"
   ]
  },
  {
   "cell_type": "code",
   "execution_count": 18,
   "metadata": {},
   "outputs": [
    {
     "data": {
      "text/plain": [
       "array([ 0.,  0.,  5., 13.,  9.,  1.,  0.,  0.,  0.,  0., 13., 15., 10.,\n",
       "       15.,  5.,  0.,  0.,  3., 15.,  2.,  0., 11.,  8.,  0.,  0.,  4.,\n",
       "       12.,  0.,  0.,  8.,  8.,  0.,  0.,  5.,  8.,  0.,  0.,  9.,  8.,\n",
       "        0.,  0.,  4., 11.,  0.,  1., 12.,  7.,  0.,  0.,  2., 14.,  5.,\n",
       "       10., 12.,  0.,  0.,  0.,  0.,  6., 13., 10.,  0.,  0.,  0.])"
      ]
     },
     "execution_count": 18,
     "metadata": {},
     "output_type": "execute_result"
    }
   ],
   "source": [
    "digits.data[0]"
   ]
  },
  {
   "cell_type": "code",
   "execution_count": 20,
   "metadata": {},
   "outputs": [],
   "source": []
  },
  {
   "cell_type": "code",
   "execution_count": 38,
   "metadata": {},
   "outputs": [],
   "source": [
    "from sklearn.model_selection import train_test_split\n",
    "X_train,X_test,Y_train,Y_test=train_test_split( digits.data , digits.target , test_size = 0.3)"
   ]
  },
  {
   "cell_type": "code",
   "execution_count": 23,
   "metadata": {},
   "outputs": [
    {
     "data": {
      "text/plain": [
       "array([[ 0.,  0., 10., ...,  1.,  0.,  0.],\n",
       "       [ 0.,  0.,  0., ...,  0.,  0.,  0.],\n",
       "       [ 0.,  0.,  3., ..., 14.,  4.,  0.],\n",
       "       ...,\n",
       "       [ 0.,  0.,  3., ...,  9.,  0.,  0.],\n",
       "       [ 0.,  0., 10., ...,  3.,  0.,  0.],\n",
       "       [ 0.,  0.,  0., ...,  9.,  0.,  0.]])"
      ]
     },
     "execution_count": 23,
     "metadata": {},
     "output_type": "execute_result"
    }
   ],
   "source": [
    "X_train"
   ]
  },
  {
   "cell_type": "code",
   "execution_count": 24,
   "metadata": {},
   "outputs": [
    {
     "data": {
      "text/plain": [
       "array([[ 0.,  0.,  2., ..., 16.,  4.,  0.],\n",
       "       [ 0.,  0.,  0., ...,  9.,  0.,  0.],\n",
       "       [ 0.,  0.,  0., ...,  0.,  0.,  0.],\n",
       "       ...,\n",
       "       [ 0.,  0.,  9., ..., 13.,  3.,  0.],\n",
       "       [ 0.,  0.,  3., ...,  3.,  0.,  0.],\n",
       "       [ 0.,  0.,  3., ..., 16., 15., 11.]])"
      ]
     },
     "execution_count": 24,
     "metadata": {},
     "output_type": "execute_result"
    }
   ],
   "source": [
    "X_test"
   ]
  },
  {
   "cell_type": "code",
   "execution_count": 26,
   "metadata": {},
   "outputs": [
    {
     "name": "stderr",
     "output_type": "stream",
     "text": [
      "c:\\users\\rahul\\appdata\\local\\programs\\python\\python38-32\\lib\\site-packages\\sklearn\\linear_model\\_logistic.py:762: ConvergenceWarning: lbfgs failed to converge (status=1):\n",
      "STOP: TOTAL NO. of ITERATIONS REACHED LIMIT.\n",
      "\n",
      "Increase the number of iterations (max_iter) or scale the data as shown in:\n",
      "    https://scikit-learn.org/stable/modules/preprocessing.html\n",
      "Please also refer to the documentation for alternative solver options:\n",
      "    https://scikit-learn.org/stable/modules/linear_model.html#logistic-regression\n",
      "  n_iter_i = _check_optimize_result(\n"
     ]
    },
    {
     "data": {
      "text/plain": [
       "LogisticRegression()"
      ]
     },
     "execution_count": 26,
     "metadata": {},
     "output_type": "execute_result"
    }
   ],
   "source": [
    "from sklearn.linear_model import LogisticRegression\n",
    "mode1=LogisticRegression()\n",
    "mode1.fit(X_train,Y_train)"
   ]
  },
  {
   "cell_type": "code",
   "execution_count": 27,
   "metadata": {},
   "outputs": [
    {
     "data": {
      "text/plain": [
       "array([[ 0.00000000e+00, -5.76090241e-03, -7.95231655e-02,\n",
       "         1.03380862e-01,  5.63783165e-02, -9.43342948e-02,\n",
       "        -1.16920236e-01, -7.93481596e-03, -6.40235214e-05,\n",
       "        -6.97998567e-02, -4.96366488e-03,  1.24516010e-01,\n",
       "         4.52983157e-02,  6.60141342e-02, -5.43046640e-02,\n",
       "        -8.05210049e-03, -1.06099422e-05,  1.74670654e-02,\n",
       "         1.13175484e-01, -1.15918665e-02, -3.05221661e-01,\n",
       "         1.67086043e-01,  6.12172709e-02, -2.41409710e-03,\n",
       "        -1.06087629e-05,  1.04758104e-01,  8.57733230e-02,\n",
       "        -1.26934927e-01, -4.07035555e-01,  1.97793406e-02,\n",
       "         6.66851637e-02, -2.27438563e-05,  0.00000000e+00,\n",
       "         1.57562445e-01,  9.98969799e-02, -1.78902894e-01,\n",
       "        -3.71272330e-01,  1.45558168e-02,  4.76155207e-02,\n",
       "         0.00000000e+00, -9.69254765e-05, -3.32220192e-02,\n",
       "         2.27550043e-01, -9.94722604e-02, -1.49309575e-01,\n",
       "         7.21352699e-02,  3.73424414e-02, -3.46853180e-04,\n",
       "        -6.57700280e-05, -9.95549606e-02,  7.19895395e-02,\n",
       "         2.24311366e-02,  1.39336452e-01,  7.37688742e-02,\n",
       "        -3.12638647e-02, -7.86320197e-03, -1.14644873e-05,\n",
       "        -5.18239109e-03, -8.72926331e-02,  1.44217274e-01,\n",
       "         9.93010472e-05, -1.91382787e-02, -3.59197234e-02,\n",
       "        -1.16632280e-02],\n",
       "       [ 0.00000000e+00, -2.85066125e-03, -1.39526863e-01,\n",
       "         2.22253109e-01, -6.58873351e-01,  4.00977382e-01,\n",
       "        -2.00460383e-02, -6.47256058e-03, -3.88788050e-03,\n",
       "        -3.82913765e-01, -3.68879145e-01, -3.04577499e-01,\n",
       "         2.45934009e-01, -1.15289222e-01, -3.15137272e-01,\n",
       "        -4.83212277e-03, -1.06035915e-05,  2.21378958e-01,\n",
       "         7.03070483e-03,  4.94177716e-01,  1.58811994e-01,\n",
       "        -3.66836426e-02, -4.70189716e-02, -2.12518410e-03,\n",
       "        -2.56151829e-02, -6.51744704e-02,  4.53923968e-02,\n",
       "         2.67812478e-02,  2.22154911e-01, -9.65319058e-02,\n",
       "         8.76177977e-02, -3.86676638e-05,  0.00000000e+00,\n",
       "        -4.09237044e-02,  1.39893641e-01, -2.13258209e-01,\n",
       "         1.91525208e-01,  2.37421949e-01, -1.24750092e-01,\n",
       "         0.00000000e+00, -1.04124863e-04, -1.63331171e-01,\n",
       "         3.72328686e-03,  3.18584860e-01, -1.09501695e-01,\n",
       "        -2.16068590e-01, -3.91257409e-01, -1.84024193e-03,\n",
       "        -1.34690453e-03, -1.36322795e-01,  3.34520941e-02,\n",
       "         5.17993275e-02,  2.75991479e-01,  2.33240621e-02,\n",
       "        -2.74583266e-01,  1.49990717e-01, -4.41263565e-04,\n",
       "         2.11405641e-02, -1.57104178e-01, -2.14561634e-02,\n",
       "         8.60573459e-02,  1.38449605e-01,  2.00520047e-01,\n",
       "         1.97702561e-01],\n",
       "       [ 0.00000000e+00,  5.27419280e-02,  2.89684820e-02,\n",
       "         5.94259510e-04,  1.16027404e-02, -3.35433809e-02,\n",
       "        -3.12958951e-02, -2.00473305e-03, -4.39504190e-03,\n",
       "         3.36180290e-01,  5.48117024e-02, -1.80316125e-01,\n",
       "         3.14506923e-01, -6.20190090e-02, -5.31348008e-03,\n",
       "        -1.48385521e-03, -1.43546765e-05, -5.06884127e-02,\n",
       "        -3.17201310e-02, -1.85176871e-01,  2.03519467e-01,\n",
       "         1.36624669e-02,  1.27552712e-01, -6.14168575e-04,\n",
       "        -1.08785359e-05, -1.15472752e-01, -4.49675363e-01,\n",
       "        -3.91746008e-01, -2.16149972e-01, -2.65602746e-03,\n",
       "         2.41200688e-02, -2.12047192e-05,  0.00000000e+00,\n",
       "        -8.55805263e-02, -2.28159091e-01, -1.45737024e-01,\n",
       "        -7.23244818e-03, -2.15174092e-01, -2.46223469e-01,\n",
       "         0.00000000e+00, -9.54739455e-05,  5.64350467e-02,\n",
       "         1.13062815e-01,  3.28968411e-01, -1.81440707e-01,\n",
       "        -3.05370715e-01, -1.41115636e-01,  5.02915515e-03,\n",
       "         2.91726053e-03,  1.30659334e-01,  7.68454567e-02,\n",
       "         4.58447163e-01,  2.80323153e-01,  2.34723325e-01,\n",
       "         1.18840770e-01,  1.80189257e-02,  9.79681783e-04,\n",
       "         4.99553721e-02,  1.57408730e-01,  2.17727968e-02,\n",
       "         7.75451125e-02,  2.60315891e-01,  3.43605890e-01,\n",
       "         7.52820487e-02],\n",
       "       [ 0.00000000e+00,  1.06224099e-01,  1.24456600e-02,\n",
       "         8.16614605e-02,  4.58584594e-01,  6.93512834e-02,\n",
       "        -3.63013926e-02, -2.19693401e-03, -7.23887022e-04,\n",
       "         1.37042151e-01,  3.32996684e-01,  5.53077422e-02,\n",
       "         1.63426381e-01,  2.05288727e-01,  2.39671797e-01,\n",
       "        -1.50650225e-03,  1.18365283e-04, -2.05839885e-01,\n",
       "        -4.14411130e-01, -3.78488894e-01,  4.69542881e-02,\n",
       "        -2.85679481e-01,  2.14647868e-02, -6.22431441e-04,\n",
       "        -1.06082849e-05, -3.07053063e-01, -3.69988261e-01,\n",
       "        -6.37763562e-02,  2.82349085e-01, -2.85587560e-01,\n",
       "        -2.66932354e-01, -2.12220414e-05,  0.00000000e+00,\n",
       "        -9.63052725e-02, -9.31356289e-02, -1.47409526e-02,\n",
       "         7.98073494e-02, -1.06887326e-01, -3.11108968e-02,\n",
       "         0.00000000e+00, -9.54178237e-05, -1.32646367e-02,\n",
       "        -2.98073867e-01, -4.35163102e-01,  1.50432896e-01,\n",
       "         2.43041800e-01,  1.07621376e-01, -4.89859202e-03,\n",
       "        -5.91862358e-05, -5.07451333e-02,  4.13534322e-02,\n",
       "        -2.11127225e-01, -6.79176667e-02,  1.64018303e-01,\n",
       "         2.83602724e-01, -5.88456182e-02, -1.26516394e-05,\n",
       "         9.63849169e-02,  1.16093581e-01,  4.68015133e-02,\n",
       "        -2.35981974e-02,  4.68369359e-02,  5.18226944e-02,\n",
       "        -3.56588898e-02],\n",
       "       [ 0.00000000e+00, -7.50865080e-03, -6.61496592e-02,\n",
       "        -4.47362402e-01, -2.53749705e-01, -2.88543174e-01,\n",
       "        -1.80824838e-01, -9.48700806e-03, -1.42465260e-04,\n",
       "         1.67347717e-02, -2.24177650e-01, -1.41660442e-01,\n",
       "        -4.32080707e-01, -1.33749620e-01, -1.51349057e-01,\n",
       "         2.86366613e-02, -1.06019179e-05,  2.04212747e-01,\n",
       "         2.20459119e-01,  1.60499587e-01, -4.50652248e-02,\n",
       "         7.76323542e-02,  5.76017593e-03,  4.34556026e-02,\n",
       "         2.57583525e-02,  7.78291088e-03,  3.23194503e-01,\n",
       "         1.09133714e-01,  7.94899520e-02,  3.31995501e-02,\n",
       "         3.52076395e-01,  2.44607262e-03,  0.00000000e+00,\n",
       "         1.38072511e-01,  1.77971424e-01, -5.95112318e-02,\n",
       "         3.07114836e-01,  2.57230693e-01,  4.76923410e-01,\n",
       "         0.00000000e+00,  9.76654469e-04,  4.89871124e-01,\n",
       "         3.95590453e-03,  5.50297385e-01,  3.24986454e-01,\n",
       "         1.32897048e-01,  1.19492249e-01, -4.30357321e-04,\n",
       "         1.89504212e-04,  2.18520849e-01, -2.01019702e-01,\n",
       "         1.43071309e-01,  6.87795803e-02, -2.89024130e-01,\n",
       "        -2.81675244e-01, -1.02379502e-02, -1.61100349e-05,\n",
       "        -6.36620043e-02,  4.28192822e-02, -2.70114110e-01,\n",
       "        -1.65855938e-01, -1.70349483e-01, -5.50638504e-02,\n",
       "        -6.03547936e-03],\n",
       "       [ 0.00000000e+00,  4.78356227e-02,  3.91633573e-01,\n",
       "        -4.08990806e-02,  9.15423100e-02,  2.61111673e-01,\n",
       "         3.60324309e-01, -2.47870719e-02, -1.25102231e-04,\n",
       "        -4.94030988e-02, -3.32742796e-02,  2.54373721e-01,\n",
       "        -4.25775893e-02,  2.16213749e-02, -7.45599034e-02,\n",
       "        -2.66610469e-02, -1.08186885e-05, -6.46115508e-02,\n",
       "         5.31530993e-02,  1.88787793e-02, -3.26560008e-01,\n",
       "        -4.23932688e-01, -4.43690302e-01, -7.85053829e-03,\n",
       "        -4.33691435e-05,  1.47904602e-01,  3.16409847e-01,\n",
       "        -2.76459358e-02,  2.99131926e-01, -1.05849975e-01,\n",
       "        -1.80535491e-01, -4.28775553e-05,  0.00000000e+00,\n",
       "        -4.39032393e-02,  4.90307472e-02, -1.53622014e-01,\n",
       "        -1.56302112e-01,  1.21911767e-02,  2.16264016e-01,\n",
       "         0.00000000e+00, -9.55571638e-05, -1.91498734e-01,\n",
       "        -2.10781225e-01, -1.51004282e-01, -1.49772338e-01,\n",
       "         6.57938321e-02,  3.89445212e-02, -4.15979498e-04,\n",
       "        -5.43544312e-05, -4.97262818e-02, -1.01782296e-01,\n",
       "        -1.12856055e-01,  4.49233128e-02, -6.03751745e-02,\n",
       "        -1.87720392e-02, -1.93240220e-02, -1.10085492e-05,\n",
       "         5.99081215e-02,  2.91359481e-01,  1.64255442e-01,\n",
       "         1.40725649e-02, -1.22481479e-02, -1.07549163e-01,\n",
       "        -3.85009499e-02],\n",
       "       [ 0.00000000e+00, -6.18978918e-03, -1.54519268e-01,\n",
       "        -9.32079021e-02, -2.90181378e-02, -1.22234304e-01,\n",
       "        -1.48847962e-01, -1.55742847e-03, -1.49633978e-04,\n",
       "        -6.51179826e-02, -5.20138128e-02,  8.59256082e-03,\n",
       "        -3.22132840e-01,  2.05754652e-02, -4.18381298e-02,\n",
       "        -1.77646500e-03, -1.06019689e-05,  1.10274273e-02,\n",
       "         6.34057868e-02, -5.03105758e-02, -2.37995657e-01,\n",
       "        -3.81557983e-01, -1.16907038e-01, -9.01170655e-04,\n",
       "        -1.82395239e-05,  1.29185701e-01,  5.82856104e-02,\n",
       "         1.21377026e-01, -1.48640349e-01, -3.97215232e-02,\n",
       "        -1.98549346e-01, -2.32788325e-05,  0.00000000e+00,\n",
       "         1.64731236e-01,  1.41630459e-01,  3.15226181e-01,\n",
       "        -3.39395297e-02, -2.84693716e-02,  8.18534542e-02,\n",
       "         0.00000000e+00, -1.99516285e-04, -1.39343241e-01,\n",
       "         4.78127894e-01,  9.97861627e-02,  6.68135491e-02,\n",
       "         9.08996349e-02,  2.60734583e-01,  4.01290322e-03,\n",
       "        -6.49332257e-05, -9.24747593e-02,  1.38377117e-01,\n",
       "        -5.36238249e-02,  3.67568187e-02,  2.98168030e-01,\n",
       "         9.47171349e-02, -1.03611272e-01, -1.08895191e-05,\n",
       "        -8.77672838e-03, -1.71440673e-01, -1.08206066e-01,\n",
       "         3.87278288e-02,  5.83472694e-02,  3.10466476e-02,\n",
       "        -9.24378228e-02],\n",
       "       [ 0.00000000e+00,  2.89613905e-02,  1.08701723e-01,\n",
       "         1.13286380e-01,  1.73471585e-02,  1.45509542e-03,\n",
       "         2.12127841e-01,  7.88377561e-02, -6.63620050e-05,\n",
       "         1.33620282e-01,  1.20807015e-01,  1.35049940e-01,\n",
       "         4.12446430e-01, -1.26530961e-01,  3.50074913e-02,\n",
       "         5.57555749e-02, -1.06033150e-05, -1.96764043e-01,\n",
       "        -2.41429866e-01, -1.49831255e-01,  1.40343987e-01,\n",
       "         1.83987295e-01,  1.27831855e-01,  8.76215766e-03,\n",
       "        -1.46010864e-05, -7.48115046e-02, -2.79118247e-02,\n",
       "        -3.14047080e-01,  1.50390565e-01,  1.90514981e-01,\n",
       "         2.76132387e-01, -4.09418613e-05,  0.00000000e+00,\n",
       "         8.76145947e-02,  7.05681954e-02, -7.51684153e-02,\n",
       "         1.54448210e-01,  2.45309124e-01,  1.99369625e-01,\n",
       "         0.00000000e+00, -9.55311335e-05, -2.28750272e-02,\n",
       "        -6.51052055e-02,  4.63233540e-02,  1.85012361e-01,\n",
       "        -3.62370360e-02,  2.27537307e-02, -3.43076337e-04,\n",
       "        -8.19477704e-05, -7.75798176e-02, -9.00123046e-02,\n",
       "         1.14300203e-01, -2.13321065e-01, -4.10078343e-01,\n",
       "        -8.59620301e-02, -2.65671422e-03, -1.95304352e-05,\n",
       "        -3.76496742e-03,  2.01493122e-03, -2.05902027e-01,\n",
       "        -3.01315521e-01, -3.10070771e-01, -6.22331317e-02,\n",
       "        -4.81192558e-03],\n",
       "       [ 0.00000000e+00, -1.19570416e-01,  6.06365857e-02,\n",
       "        -1.89521355e-01,  1.31247302e-01, -1.07297995e-01,\n",
       "        -1.23293237e-01, -1.20125541e-02,  9.84103638e-03,\n",
       "        -2.30921437e-01, -1.15346746e-02, -4.57135636e-03,\n",
       "        -2.24240858e-01,  1.49815051e-01,  1.52374690e-01,\n",
       "        -3.38443222e-03, -1.07815226e-05,  5.06407970e-02,\n",
       "         1.61385375e-01, -4.57094042e-02,  2.02056821e-01,\n",
       "         2.16226467e-01,  1.49396406e-01, -1.37045614e-03,\n",
       "        -2.39332825e-05,  8.53429939e-02, -1.03562965e-01,\n",
       "         3.87664574e-01, -2.90081169e-01, -2.91704798e-02,\n",
       "        -1.12337494e-01, -3.50614063e-05,  0.00000000e+00,\n",
       "         2.44219538e-02, -1.97694463e-01,  1.90757672e-01,\n",
       "         1.13113811e-01, -3.00394816e-01, -5.44419544e-01,\n",
       "         0.00000000e+00, -9.86893101e-05, -2.00584694e-02,\n",
       "         2.51237946e-01,  3.11390359e-02,  1.53981233e-01,\n",
       "         1.46580521e-01, -3.06688770e-03, -1.23632218e-03,\n",
       "        -1.37827638e-03,  7.47043483e-02,  2.15859518e-01,\n",
       "        -3.02739642e-01, -2.66823085e-01,  9.37979327e-02,\n",
       "         2.01462712e-01, -1.62988160e-02, -4.45380594e-04,\n",
       "        -5.55589579e-02, -1.82214771e-01,  1.71216258e-01,\n",
       "         1.92122712e-01,  2.20618970e-02, -1.41966984e-01,\n",
       "        -7.86210974e-02],\n",
       "       [ 0.00000000e+00, -9.38826205e-02, -1.62667068e-01,\n",
       "         2.49814669e-01,  1.74938773e-01, -8.69422856e-02,\n",
       "         8.50774495e-02, -1.23846499e-02, -2.86639968e-04,\n",
       "         1.74578644e-01,  1.86227826e-01,  5.32854488e-02,\n",
       "        -1.60580065e-01, -2.57259396e-02,  2.15448527e-01,\n",
       "        -3.66957114e-02, -2.93896603e-05,  1.31768956e-02,\n",
       "         6.89515585e-02,  1.47552783e-01,  1.63155994e-01,\n",
       "         4.69259168e-01,  1.14393105e-01, -3.63197139e-02,\n",
       "        -1.09309526e-05,  8.75374773e-02,  1.22082734e-01,\n",
       "         2.79193745e-01,  2.83906057e-02,  3.16023599e-01,\n",
       "        -4.82771276e-02, -2.20007468e-03,  0.00000000e+00,\n",
       "        -3.05689998e-01, -1.60002264e-01,  3.34956887e-01,\n",
       "        -2.77262994e-01, -1.15783154e-01, -7.55220237e-02,\n",
       "         0.00000000e+00, -9.54184684e-05,  3.72871287e-02,\n",
       "        -5.03697592e-01, -6.89459565e-01, -2.91202177e-01,\n",
       "        -1.93671765e-01, -5.14489686e-02,  4.69364097e-04,\n",
       "        -5.53921302e-05,  8.25192162e-02, -1.85062855e-01,\n",
       "        -1.09702392e-01, -2.98048979e-01, -1.28322880e-01,\n",
       "        -6.36689730e-03,  5.08279512e-02, -1.13829590e-05,\n",
       "        -9.04439254e-02, -1.16437494e-02,  5.74150821e-02,\n",
       "         8.21447914e-02, -1.42049176e-02, -2.24262426e-01,\n",
       "        -5.25521726e-03]])"
      ]
     },
     "execution_count": 27,
     "metadata": {},
     "output_type": "execute_result"
    }
   ],
   "source": [
    "mode1.coef_"
   ]
  },
  {
   "cell_type": "code",
   "execution_count": 28,
   "metadata": {},
   "outputs": [
    {
     "data": {
      "text/plain": [
       "array([ 0.00145012, -0.07597355, -0.0006828 ,  0.00619687,  0.05658361,\n",
       "       -0.00680597, -0.01010807,  0.01159808,  0.04502932, -0.02728762])"
      ]
     },
     "execution_count": 28,
     "metadata": {},
     "output_type": "execute_result"
    }
   ],
   "source": [
    "mode1.intercept_"
   ]
  },
  {
   "cell_type": "markdown",
   "metadata": {},
   "source": [
    "<p><b>Measuring Accuracy of model</b></p>"
   ]
  },
  {
   "cell_type": "code",
   "execution_count": 30,
   "metadata": {},
   "outputs": [
    {
     "data": {
      "text/plain": [
       "0.9592592592592593"
      ]
     },
     "execution_count": 30,
     "metadata": {},
     "output_type": "execute_result"
    }
   ],
   "source": [
    "mode1.score(X_test,Y_test)"
   ]
  },
  {
   "cell_type": "code",
   "execution_count": 32,
   "metadata": {},
   "outputs": [
    {
     "data": {
      "text/plain": [
       "array([0, 1, 2, 3, 4])"
      ]
     },
     "execution_count": 32,
     "metadata": {},
     "output_type": "execute_result"
    }
   ],
   "source": [
    "mode1.predict(digits.data[0:5])"
   ]
  },
  {
   "cell_type": "markdown",
   "metadata": {},
   "source": [
    "<p><b>Confusion Matrix</b></p>"
   ]
  },
  {
   "cell_type": "code",
   "execution_count": 34,
   "metadata": {},
   "outputs": [],
   "source": [
    "y_predicted=mode1.predict(X_test)"
   ]
  },
  {
   "cell_type": "code",
   "execution_count": 35,
   "metadata": {},
   "outputs": [
    {
     "data": {
      "text/plain": [
       "array([[49,  0,  0,  0,  0,  0,  0,  0,  0,  0],\n",
       "       [ 0, 57,  0,  0,  0,  0,  0,  0,  0,  0],\n",
       "       [ 0,  0, 47,  0,  0,  0,  0,  0,  0,  0],\n",
       "       [ 0,  0,  1, 55,  0,  1,  0,  0,  1,  0],\n",
       "       [ 0,  0,  0,  0, 55,  0,  0,  1,  0,  0],\n",
       "       [ 0,  0,  1,  1,  1, 60,  1,  0,  0,  0],\n",
       "       [ 0,  0,  0,  0,  0,  0, 52,  0,  0,  0],\n",
       "       [ 0,  0,  0,  0,  0,  0,  0, 48,  0,  0],\n",
       "       [ 0,  1,  2,  1,  1,  1,  3,  0, 36,  0],\n",
       "       [ 0,  0,  0,  1,  0,  1,  0,  1,  2, 59]], dtype=int64)"
      ]
     },
     "execution_count": 35,
     "metadata": {},
     "output_type": "execute_result"
    }
   ],
   "source": [
    "from sklearn.metrics import confusion_matrix\n",
    "cm=confusion_matrix(Y_test,y_predicted)\n",
    "cm"
   ]
  },
  {
   "cell_type": "code",
   "execution_count": 37,
   "metadata": {},
   "outputs": [
    {
     "data": {
      "text/plain": [
       "Text(69.0, 0.5, 'Truth')"
      ]
     },
     "execution_count": 37,
     "metadata": {},
     "output_type": "execute_result"
    },
    {
     "data": {
      "image/png": "[encoded data removed]",
      "text/plain": [
       "<Figure size 720x504 with 2 Axes>"
      ]
     },
     "metadata": {
      "needs_background": "light"
     },
     "output_type": "display_data"
    }
   ],
   "source": [
    "import seaborn as sn\n",
    "plt.figure(figsize=(10,7))\n",
    "sn.heatmap(cm,annot=True)\n",
    "plt.xlabel('Predicted')\n",
    "plt.ylabel('Truth')"
   ]
  },
  {
   "cell_type": "code",
   "execution_count": null,
   "metadata": {},
   "outputs": [],
   "source": []
  }
 ],
 "metadata": {
  "kernelspec": {
   "display_name": "Python 3",
   "language": "python",
   "name": "python3"
  },
  "language_info": {
   "codemirror_mode": {
    "name": "ipython",
    "version": 3
   },
   "file_extension": ".py",
   "mimetype": "text/x-python",
   "name": "python",
   "nbconvert_exporter": "python",
   "pygments_lexer": "ipython3",
   "version": "3.8.4"
  }
 },
 "nbformat": 4,
 "nbformat_minor": 4
}
